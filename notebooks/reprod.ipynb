{
 "cells": [
  {
   "cell_type": "markdown",
   "id": "cbe350dd",
   "metadata": {},
   "source": [
    "# Digit Recognition - Paper Implementation\n",
    "\n",
    "(Write Brief Introduction)\n",
    "\n"
   ]
  },
  {
   "cell_type": "code",
   "execution_count": 2,
   "id": "07207dcd",
   "metadata": {},
   "outputs": [],
   "source": [
    "# Setting path for proper imports \n",
    "import sys\n",
    "import os\n",
    "sys.path.append(os.path.abspath('..'))\n"
   ]
  },
  {
   "cell_type": "code",
   "execution_count": 3,
   "id": "028b57bb",
   "metadata": {},
   "outputs": [],
   "source": [
    "# Importing all Relevant Modules\n",
    "import numpy as np\n",
    "import matplotlib.pyplot as plt\n",
    "import data.utils as data\n",
    "import training.train as train\n",
    "from models.LeNet1989 import LeNet1989"
   ]
  },
  {
   "cell_type": "markdown",
   "id": "6612faff",
   "metadata": {},
   "source": [
    "## Preprocessing of Data\n",
    "\n",
    "(explain the data processing approach and what Set was used)"
   ]
  },
  {
   "cell_type": "code",
   "execution_count": null,
   "id": "09af1c7b",
   "metadata": {},
   "outputs": [],
   "source": [
    "(x_train, y_train), (x_test, y_test) = data.get_prepared_data()\n",
    "train_set = data.create_dataset(x_train, y_train)\n",
    "test_set = data.create_dataset(x_test, y_test)\n",
    "\n",
    "img1 = x_train[0]\n",
    "img2 = x_train[1]\n",
    "img3 = x_train[2]\n",
    "\n",
    "fig, axes = plt.subplots(1, 3)\n",
    "\n",
    "axes[0].imshow(img1, cmap='gray_r')\n",
    "axes[0].set_title(\"Label: {}\".format(y_train[0]))\n",
    "axes[0].axis('off')  \n",
    "\n",
    "axes[1].imshow(img2, cmap='gray_r')\n",
    "axes[1].set_title(\"Label: {}\".format(y_train[1]))\n",
    "axes[1].axis('off')\n",
    "\n",
    "axes[2].imshow(img3, cmap='gray_r')\n",
    "axes[2].set_title(\"Label: {}\".format(y_train[2]))\n",
    "axes[2].axis('off')\n",
    "\n",
    "plt.tight_layout()\n",
    "plt.show()"
   ]
  },
  {
   "cell_type": "markdown",
   "id": "4c4afc65",
   "metadata": {},
   "source": [
    "## Model Architecture - LeNet1989\n",
    "\n",
    "(Discuss Model Architecture used, some interesting insights from paper as well)"
   ]
  },
  {
   "cell_type": "code",
   "execution_count": null,
   "id": "1ca5f054",
   "metadata": {},
   "outputs": [],
   "source": [
    "# instantiattion of the model\n",
    "le_net = LeNet1989()\n",
    "\n",
    "# trained model is saved by default in \"LeNet1989.pt\"\n",
    "train.train_model(train_data = train_set, test_data=test_set, model=le_net)\n"
   ]
  },
  {
   "cell_type": "markdown",
   "id": "8246e3cc",
   "metadata": {},
   "source": [
    "## Model Evaluation\n",
    "\n",
    "Discussion how the implemented model on MNIST performs compared to the one in Paper\n",
    "\n",
    "(plotting the evolution of loss and accuracy with training)"
   ]
  },
  {
   "cell_type": "markdown",
   "id": "f2ed969d",
   "metadata": {},
   "source": [
    "## Tuning of Hyperparameters\n",
    "\n",
    "run a few tuning loops, train on 15 epochs with different parameters for lr and momentum, plot and compare results"
   ]
  },
  {
   "cell_type": "code",
   "execution_count": null,
   "id": "d934befb",
   "metadata": {},
   "outputs": [],
   "source": [
    "# code for parameter tuning"
   ]
  },
  {
   "cell_type": "markdown",
   "id": "b9e56899",
   "metadata": {},
   "source": [
    "## Conclusion/Outlook"
   ]
  }
 ],
 "metadata": {
  "kernelspec": {
   "display_name": "6.86x311",
   "language": "python",
   "name": "python3"
  },
  "language_info": {
   "codemirror_mode": {
    "name": "ipython",
    "version": 3
   },
   "file_extension": ".py",
   "mimetype": "text/x-python",
   "name": "python",
   "nbconvert_exporter": "python",
   "pygments_lexer": "ipython3",
   "version": "3.11.0"
  }
 },
 "nbformat": 4,
 "nbformat_minor": 5
}
